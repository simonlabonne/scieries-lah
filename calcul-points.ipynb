{
 "cells": [
  {
   "cell_type": "code",
   "execution_count": 9,
   "id": "5e4efc36",
   "metadata": {},
   "outputs": [],
   "source": [
    "import pandas as pd"
   ]
  },
  {
   "cell_type": "code",
   "execution_count": 10,
   "id": "6cee7755",
   "metadata": {},
   "outputs": [],
   "source": [
    "teams = pd.read_csv('Fantrax-Team-Roster-League Against Humanity.csv')"
   ]
  },
  {
   "cell_type": "code",
   "execution_count": 11,
   "id": "6d0ead18",
   "metadata": {},
   "outputs": [],
   "source": [
    "teams['points'] = 0"
   ]
  },
  {
   "cell_type": "code",
   "execution_count": 12,
   "id": "6a1e1ba0",
   "metadata": {},
   "outputs": [],
   "source": [
    "teams.to_json('src/app/scieries.json', orient='records')"
   ]
  }
 ],
 "metadata": {
  "kernelspec": {
   "display_name": "scieries-lah",
   "language": "python",
   "name": "python3"
  },
  "language_info": {
   "codemirror_mode": {
    "name": "ipython",
    "version": 3
   },
   "file_extension": ".py",
   "mimetype": "text/x-python",
   "name": "python",
   "nbconvert_exporter": "python",
   "pygments_lexer": "ipython3",
   "version": "3.13.2"
  }
 },
 "nbformat": 4,
 "nbformat_minor": 5
}

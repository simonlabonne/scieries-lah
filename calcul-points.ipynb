{
 "cells": [
  {
   "cell_type": "code",
   "execution_count": 186,
   "id": "5e4efc36",
   "metadata": {},
   "outputs": [],
   "source": [
    "import pandas as pd\n",
    "import requests"
   ]
  },
  {
   "cell_type": "code",
   "execution_count": 187,
   "id": "6cee7755",
   "metadata": {},
   "outputs": [],
   "source": [
    "teams = pd.read_csv('Fantrax-Team-Roster-League Against Humanity.csv')"
   ]
  },
  {
   "cell_type": "code",
   "execution_count": 188,
   "id": "6d0ead18",
   "metadata": {},
   "outputs": [],
   "source": [
    "def get_data(url):\n",
    "    r = requests.get(url)\n",
    "    return r.json()"
   ]
  },
  {
   "cell_type": "code",
   "execution_count": 189,
   "id": "c1877324",
   "metadata": {},
   "outputs": [],
   "source": [
    "compiler = []\n",
    "start = 0\n",
    "while True:\n",
    "    data = get_data(\"https://api.nhle.com/stats/rest/en/skater/summary?isAggregate=false&isGame=false&sort=%5B%7B%22property%22:%22points%22,%22direction%22:%22DESC%22%7D,%7B%22property%22:%22goals%22,%22direction%22:%22DESC%22%7D,%7B%22property%22:%22assists%22,%22direction%22:%22DESC%22%7D,%7B%22property%22:%22playerId%22,%22direction%22:%22ASC%22%7D%5D&start=\"+str(start)+\"&limit=100&cayenneExp=gameTypeId=3%20and%20seasonId%3C=20242025%20and%20seasonId%3E=20242025\")\n",
    "    start += 100\n",
    "    compiler.extend(data['data'])\n",
    "    if len(data) < 100:\n",
    "        break\n",
    "start = 0\n",
    "while True:\n",
    "    data = get_data(\"https://api.nhle.com/stats/rest/en/goalie/summary?isAggregate=false&isGame=false&sort=%5B%7B%22property%22:%22wins%22,%22direction%22:%22DESC%22%7D,%7B%22property%22:%22savePct%22,%22direction%22:%22DESC%22%7D,%7B%22property%22:%22playerId%22,%22direction%22:%22ASC%22%7D%5D&start=\"+str(start)+\"&limit=100&cayenneExp=gameTypeId=3%20and%20seasonId%3C=20242025%20and%20seasonId%3E=20242025\")\n",
    "    start += 100\n",
    "    compiler.extend(data['data'])\n",
    "    if len(data) < 100:\n",
    "        break"
   ]
  },
  {
   "cell_type": "code",
   "execution_count": 190,
   "id": "cc70ef17",
   "metadata": {},
   "outputs": [],
   "source": [
    "nhl_stats = pd.DataFrame(compiler)\n",
    "nhl_stats = nhl_stats.drop(['points'], axis=1)"
   ]
  },
  {
   "cell_type": "code",
   "execution_count": 191,
   "id": "7e3ae5a7",
   "metadata": {},
   "outputs": [],
   "source": [
    "df_merge = pd.merge(nhl_stats, teams, how=\"outer\", left_on=\"skaterFullName\", right_on=\"player\")\n",
    "df_merge = df_merge.dropna(subset=['player'])\n",
    "def calculate_points(row):\n",
    "    if row['pos'] == 'G':\n",
    "        return (row['wins'] * 2) + row['shutouts'] + row['assists'] + (row['goals'] * 10)\n",
    "    if (row['pos'] == 'D' or row['pos'] == 'F'):\n",
    "        return row['goals'] + row['assists']\n",
    "df_merge['points'] = df_merge.apply(calculate_points, axis=1)\n",
    "df_merge = df_merge.sort_values(by=['points'], ascending=False)\n",
    "df_merge['points'] = df_merge['points'].fillna(0)"
   ]
  },
  {
   "cell_type": "code",
   "execution_count": null,
   "id": "6a1e1ba0",
   "metadata": {},
   "outputs": [],
   "source": [
    "df_merge.to_json('scieries.json', orient='records')"
   ]
  }
 ],
 "metadata": {
  "kernelspec": {
   "display_name": "scieries-lah",
   "language": "python",
   "name": "python3"
  },
  "language_info": {
   "codemirror_mode": {
    "name": "ipython",
    "version": 3
   },
   "file_extension": ".py",
   "mimetype": "text/x-python",
   "name": "python",
   "nbconvert_exporter": "python",
   "pygments_lexer": "ipython3",
   "version": "3.13.2"
  }
 },
 "nbformat": 4,
 "nbformat_minor": 5
}
